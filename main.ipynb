{
 "cells": [
  {
   "cell_type": "code",
   "execution_count": 1,
   "id": "905eace5",
   "metadata": {},
   "outputs": [
    {
     "name": "stdout",
     "output_type": "stream",
     "text": [
      "Model 'llama3.2:1b' is already available in Ollama.\n",
      "Model 'granite-embedding:30m' is already available in Ollama.\n"
     ]
    }
   ],
   "source": [
    "import os\n",
    "from src.llama import llama\n",
    "from src.postgres_db import VectorDB\n",
    "\n",
    "OLLAMA_HOST = os.getenv(\"OLLAMA_HOST\", \"http://ollama:11434\")\n",
    "MODEL = \"llama3.2:1b\" # Find available models here https://ollama.com/library\n",
    "EMBEDDING_MODEL = \"granite-embedding:30m\" # Find available models here https://ollama.com/library\n",
    "\n",
    "POSTGRES_HOST = os.getenv(\"POSTGRES_HOST\", \"vector-postgres\")\n",
    "\n",
    "vectordb = VectorDB(host=POSTGRES_HOST)\n",
    "llm = llama(OLLAMA_HOST, model=MODEL, embedding_model=EMBEDDING_MODEL)"
   ]
  },
  {
   "cell_type": "markdown",
   "id": "e9e7aad5",
   "metadata": {},
   "source": [
    "## Generate Response"
   ]
  },
  {
   "cell_type": "code",
   "execution_count": null,
   "id": "e7b94168",
   "metadata": {},
   "outputs": [],
   "source": [
    "prompt = \"How much do github actions cost for linux?\"\n",
    "embedding = llm.create_embedding(f\"{prompt}\")\n",
    "similar_docs = vectordb.search_similar(embedding, top_k=3)\n",
    "context=\"\"\n",
    "for doc in similar_docs:\n",
    "    context += doc[1] + \"\\n\"\n",
    "\n",
    "prompt_with_context = f\"Context: {context}\\n\\nQuestion: {prompt}\\n\"\n",
    "\n",
    "response = llm.generate_response(prompt_with_context)\n",
    "print(response if response else \"No response generated.\")"
   ]
  }
 ],
 "metadata": {
  "kernelspec": {
   "display_name": "Python 3",
   "language": "python",
   "name": "python3"
  },
  "language_info": {
   "codemirror_mode": {
    "name": "ipython",
    "version": 3
   },
   "file_extension": ".py",
   "mimetype": "text/x-python",
   "name": "python",
   "nbconvert_exporter": "python",
   "pygments_lexer": "ipython3",
   "version": "3.10.16"
  }
 },
 "nbformat": 4,
 "nbformat_minor": 5
}
