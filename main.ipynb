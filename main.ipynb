{
 "cells": [
  {
   "cell_type": "code",
   "execution_count": 4,
   "id": "905eace5",
   "metadata": {},
   "outputs": [
    {
     "name": "stdout",
     "output_type": "stream",
     "text": [
      "Model 'tinyllama:latest' is already available in Ollama.\n"
     ]
    }
   ],
   "source": [
    "import os\n",
    "import sys\n",
    "from src.llama import llama\n",
    "\n",
    "OLLAMA_HOST = os.getenv(\"OLLAMA_HOST\", \"http://ollama:11434\")\n",
    "MODEL = \"tinyllama:latest\" # Find available models here https://ollama.com/library\n",
    "llama = llama(OLLAMA_HOST, MODEL)"
   ]
  },
  {
   "cell_type": "markdown",
   "id": "e9e7aad5",
   "metadata": {},
   "source": [
    "## Generate Rponse"
   ]
  },
  {
   "cell_type": "code",
   "execution_count": 5,
   "id": "e7b94168",
   "metadata": {},
   "outputs": [
    {
     "name": "stdout",
     "output_type": "stream",
     "text": [
      "2x2 is an acronym meaning \"two by two\". It's a popular mathematical expression that describes the arrangement of elements in a row or column, as well as the possible combinations thereof. It can be used to illustrate a more complex problem and can be particularly useful when exploring mathematical concepts.\n"
     ]
    }
   ],
   "source": [
    "prompt = \"What is 2x2?\"\n",
    "\n",
    "response = llama.generate_response(prompt)\n",
    "print(response if response else \"No response generated.\")"
   ]
  }
 ],
 "metadata": {
  "kernelspec": {
   "display_name": "Python 3",
   "language": "python",
   "name": "python3"
  },
  "language_info": {
   "codemirror_mode": {
    "name": "ipython",
    "version": 3
   },
   "file_extension": ".py",
   "mimetype": "text/x-python",
   "name": "python",
   "nbconvert_exporter": "python",
   "pygments_lexer": "ipython3",
   "version": "3.10.16"
  }
 },
 "nbformat": 4,
 "nbformat_minor": 5
}
