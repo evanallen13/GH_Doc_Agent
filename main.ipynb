{
 "cells": [
  {
   "cell_type": "code",
   "execution_count": null,
   "id": "905eace5",
   "metadata": {},
   "outputs": [
    {
     "name": "stdout",
     "output_type": "stream",
     "text": [
      "Model 'llama3.2:1b' not found. Pulling from Ollama...\n",
      "Model 'llama3.2:1b' pulled successfully.\n",
      "Model 'granite-embedding:30m' is already available in Ollama.\n"
     ]
    }
   ],
   "source": [
    "import os\n",
    "from src.llama import llama\n",
    "from src.postgres_db import VectorDB\n",
    "\n",
    "OLLAMA_HOST = os.getenv(\"OLLAMA_HOST\", \"http://ollama:11434\")\n",
    "MODEL = \"llama3.2:1b\" # Find available models here https://ollama.com/library\n",
    "EMBEDDING_MODEL = \"granite-embedding:30m\" # Find available models here https://ollama.com/library\n",
    "\n",
    "POSTGRES_HOST = os.getenv(\"POSTGRES_HOST\", \"vector-postgres\")\n",
    "\n",
    "vectordb = VectorDB(host=POSTGRES_HOST)\n",
    "llm = llama(OLLAMA_HOST, model=MODEL, embedding_model=EMBEDDING_MODEL)"
   ]
  },
  {
   "cell_type": "markdown",
   "id": "e9e7aad5",
   "metadata": {},
   "source": [
    "## Generate Response"
   ]
  },
  {
   "cell_type": "code",
   "execution_count": 32,
   "id": "e7b94168",
   "metadata": {},
   "outputs": [
    {
     "name": "stdout",
     "output_type": "stream",
     "text": [
      "The text does not explicitly state the cost of GitHub Actions. However, it provides some information about how to calculate costs and what is included in a subscription.\n",
      "\n",
      "According to the text, GitHub calculates the cost of minutes and storage used over the amount included in an account. The cost is calculated based on hourly usage during that month.\n",
      "\n",
      "The text also mentions that some Service features are billed based on your usage, and monthly payment for these purchases will be charged on a periodic basis in arrears, provided that for invoiced customers, paid Service features are billed in advance.\n",
      "\n",
      "To estimate the costs, you can use the GitHub pricing calculator, which allows you to calculate the cost of minutes and storage used over the amount included in your account. Additionally, you may want to consider factors such as usage-based billing, payment terms, and subscription licenses when planning for costs.\n",
      "\n",
      "It's also worth noting that GitHub provides some additional information on their website about how they bill customers for GitHub Actions, including a FAQ section and a guide to managing subscriptions and billing.\n"
     ]
    }
   ],
   "source": [
    "prompt = \"How much do github actions cost?\"\n",
    "embedding = llm.create_embedding(f\"{prompt}\")\n",
    "similar_docs = vectordb.search_similar(embedding, top_k=3)\n",
    "context=\"\"\n",
    "for doc in similar_docs:\n",
    "    context += doc[1] + \"\\n\"\n",
    "\n",
    "prompt_with_context = f\"Context: {context}\\n\\nQuestion: {prompt}\\n\"\n",
    "\n",
    "response = llm.generate_response(prompt_with_context)\n",
    "print(response if response else \"No response generated.\")"
   ]
  }
 ],
 "metadata": {
  "kernelspec": {
   "display_name": "Python 3",
   "language": "python",
   "name": "python3"
  },
  "language_info": {
   "codemirror_mode": {
    "name": "ipython",
    "version": 3
   },
   "file_extension": ".py",
   "mimetype": "text/x-python",
   "name": "python",
   "nbconvert_exporter": "python",
   "pygments_lexer": "ipython3",
   "version": "3.10.16"
  }
 },
 "nbformat": 4,
 "nbformat_minor": 5
}
